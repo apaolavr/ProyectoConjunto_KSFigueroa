{
 "cells": [
  {
   "cell_type": "markdown",
   "metadata": {},
   "source": [
    "# <font color=\"red\"> **Expectativas del curso**\n",
    "## TAREA 1\n",
    "## ''SPF 2019''"
   ]
  },
  {
   "cell_type": "markdown",
   "metadata": {
    "collapsed": true
   },
   "source": [
    "###  A lo largo de nuestra formacion como <font color=\"green\">* $ingenieros-financieros$* <font color=\"black\">hemos visto distintas materias que combinan matematicas y finanzas, y para poder eficientar los procesos es necesario tener una base de programacion. \n",
    "### Es por eso que para este curso de simulacion de procesos financieros, nuestras expectativas de la materia, asi como de nosotros, van en aumento. El aprender a hacer uso de todas las herramientas disponibles es fundamental, por eso para esta materia esperamos ser capaces de usar la programacion dentro de las finanzas y saber onterpretar la informacion que nos arroja, poder tomar una decision en base a los resultados y solucionar problemas."
   ]
  },
  {
   "cell_type": "markdown",
   "metadata": {
    "collapsed": true
   },
   "source": [
    "# <font color=\"red\"> *Resumen de articulo*\n",
    "## Python is becoming the world’s most popular coding language\n",
    "![Python-photo.jpg](attachment:Python-photo.jpg)"
   ]
  },
  {
   "cell_type": "markdown",
   "metadata": {},
   "source": [
    "### <font color=\"black\"> Guido van Rosum quien es un informatico holandés es quien crea Python, y despues de 30 años de que sale al mercado supera a sus rivales.\n",
    "\n",
    "### <font color=\"black\">tenia los principios del codigo en claro,que fuera facil de leer, maleable para los propositos ded cada usuario y un nombre corto y unico.\n",
    "### <font color=\"blue\"> ventajas de este lenguaje:\n",
    "### - simplicidad \n",
    "### - flexible ante usuario\n",
    "### - lectura de codigo entendible \n",
    "### <font color=\"black\"> ya que el usuario puede buscar como usar <font color=\"blue\">*python* <font color=\"black\">y aprender por si mismo"
   ]
  },
  {
   "cell_type": "markdown",
   "metadata": {
    "collapsed": true
   },
   "source": [
    "*TAREA 1 FORMULAS*\n",
    "\n",
    "1. La formula del rectangulo se obtiene al interpolar f\n",
    "(x) por medio del polinomio constante $P_0 (x)=\n",
    "\\ f ( \\frac{a + \\  b}{2})$\n",
    "\\begin{equation}\n",
    "\\int_{a}^{b} f(x) \\cdot dx = (b-a) f(\\frac{a + \\ b}{2})= R(f)\n",
    "\\end{equation}\n",
    "\n",
    "2. La formula del trapecio se obtiene al interpolar f por medio de un polinomio lineal $P_1 (x)= ax+ \\beta $ que satisfaga f(a)=$P_1 (a)$, y =$P_1 (b)$. Determinar el polinomio es equivalente a resolver un sistema de ecuaciones para $\\alpha$ y $\\beta$ cuya solucion es\n",
    "\n",
    "\\begin{equation}\n",
    "\\alpha=  \\frac{f(b)-f(a) \\ }{b-a} \\beta =  \\frac{f(b)a-f(a)b \\ }{b-a}\n",
    "\\end{equation}\n",
    "Al integrar $P_1 (x)=$ en el interbalo [a,b] se obtiene de la regla del trapecio con $h=b-a$ \n",
    "\n",
    "\\begin{equation}\n",
    "\\int_{a}^{b} f(x) \\cdot dx = \\int_{a}^{b} p_1(x)dx = \\frac{h  \\ }{2}(f(a) + f(b))=T (f)\n",
    "\\end{equation}\n",
    "\n",
    "El error esta dado por \n",
    "\\begin{equation}\n",
    "\\int_{a}^{b} f(x) \\cdot dx -T(f)= - \\frac{h^3 \\ }{12}(f''(n). a<n<b\n",
    "\\end{equation}\n",
    "\n",
    "3. Por último al integrar el polinomio cuadrático que interpola a $f$ en $x = a $,  $\\ x= ( \\frac{a + \\  b}{2})$ y $x = b$ se obtiene la regla de Simpson con $\\ h =\\frac{b-a}{2}$\n",
    "\n",
    "\\begin{equation}\n",
    "\\int_{a}^{b} f(x) \\cdot dx = \\int_{a}^{b} p_2(x)dx = \\frac{h  \\ }{3}(f(a) + 4f(a+h)+f(b))=S (f)\n",
    "\\end{equation}\n",
    "\n",
    "El error que se comete al usar Simpson es\n",
    "\\begin{equation}\n",
    "\\int_{a}^{b} f(x) \\cdot dx -S(f)= - \\frac{h^5 \\ }{12} (f^(4)(n)). a<n<b\n",
    "\\end{equation}\n"
   ]
  },
  {
   "cell_type": "code",
   "execution_count": null,
   "metadata": {
    "collapsed": true
   },
   "outputs": [],
   "source": []
  }
 ],
 "metadata": {
  "kernelspec": {
   "display_name": "Python 3",
   "language": "python",
   "name": "python3"
  },
  "language_info": {
   "codemirror_mode": {
    "name": "ipython",
    "version": 3
   },
   "file_extension": ".py",
   "mimetype": "text/x-python",
   "name": "python",
   "nbconvert_exporter": "python",
   "pygments_lexer": "ipython3",
   "version": "3.6.1"
  }
 },
 "nbformat": 4,
 "nbformat_minor": 2
}
