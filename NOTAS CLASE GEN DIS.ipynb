{
 "cells": [
  {
   "cell_type": "markdown",
   "metadata": {},
   "source": [
    "## NOTAS CLASE 9, GEN DISRTIBUCION DE PROBABILIDA\n"
   ]
  },
  {
   "cell_type": "markdown",
   "metadata": {},
   "source": [
    "creacion de variables aleatorias contunuas y discrwetas "
   ]
  },
  {
   "cell_type": "markdown",
   "metadata": {},
   "source": [
    "generar una secuencia aleatoria a apartir de una distrubucion de probabilidad "
   ]
  },
  {
   "cell_type": "markdown",
   "metadata": {},
   "source": [
    "### metodo de la trasformada inversa\n"
   ]
  },
  {
   "cell_type": "markdown",
   "metadata": {},
   "source": [
    "F mayuscula\n",
    "ascendente y mayor a 1\n",
    "si la funcion es creciente, puedo tomar la inversa ( despejando x) , y como es una funcion de distribucion siempre es creciente\n",
    "tomar en cuenta funciones con itervalo plano o discontunuidad \n",
    "\n",
    "\n"
   ]
  },
  {
   "cell_type": "markdown",
   "metadata": {},
   "source": [
    "iguales f a u y despejes x en funcion de u \n"
   ]
  },
  {
   "cell_type": "markdown",
   "metadata": {},
   "source": [
    "F(X2)=U2\n",
    "X2=FINVERSA(U2)"
   ]
  },
  {
   "cell_type": "markdown",
   "metadata": {},
   "source": [
    "crea la erlag y despues validadla con la f si grafico el hostograma junto cin la funcion f todos mis valores den¿ben estra pot debajo"
   ]
  },
  {
   "cell_type": "markdown",
   "metadata": {},
   "source": [
    "sps.gamma() es lo mismo que fac()"
   ]
  },
  {
   "cell_type": "code",
   "execution_count": null,
   "metadata": {
    "collapsed": true
   },
   "outputs": [],
   "source": [
    "plt.figure()\n",
    "plt.subplot(121)una fila, dos columnas, la 1 \n",
    "count,x,ignored= plt.hist()\n"
   ]
  },
  {
   "cell_type": "markdown",
   "metadata": {},
   "source": [
    "CONTINUO \n",
    "\n",
    ">>si tengo una f minuscula, la integro para encontrar la F, luego// funcion de distrubucion de proba\n",
    "\n",
    ">> si tengo F mayuscula, la igualo a u y desoejo para x, luego derivo para tener f min y poder graficar  // funcion distribucion acumulada\n"
   ]
  },
  {
   "cell_type": "markdown",
   "metadata": {},
   "source": [
    "DISCRETAS ( TABLAS) CUMSUM \n",
    "P probabilidades \n",
    "q prob acumuladas \n",
    "\n",
    ">>\n",
    ">>"
   ]
  },
  {
   "cell_type": "markdown",
   "metadata": {
    "collapsed": true
   },
   "source": [
    "## metodo de aceptacion y rechazo"
   ]
  },
  {
   "cell_type": "markdown",
   "metadata": {},
   "source": [
    "para metodos contunuos que sstan muy pesados para integrar:"
   ]
  },
  {
   "cell_type": "markdown",
   "metadata": {},
   "source": [
    ">> dominio finito, acotada"
   ]
  },
  {
   "cell_type": "markdown",
   "metadata": {},
   "source": [
    "encuentro una funcion que este por encima de la funciom que quiero encontrar. "
   ]
  },
  {
   "cell_type": "code",
   "execution_count": null,
   "metadata": {
    "collapsed": true
   },
   "outputs": [],
   "source": []
  }
 ],
 "metadata": {
  "kernelspec": {
   "display_name": "Python 3",
   "language": "python",
   "name": "python3"
  },
  "language_info": {
   "codemirror_mode": {
    "name": "ipython",
    "version": 3
   },
   "file_extension": ".py",
   "mimetype": "text/x-python",
   "name": "python",
   "nbconvert_exporter": "python",
   "pygments_lexer": "ipython3",
   "version": "3.6.1"
  }
 },
 "nbformat": 4,
 "nbformat_minor": 2
}
